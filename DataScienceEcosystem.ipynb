{
 "cells": [
  {
   "cell_type": "markdown",
   "id": "85319f48-c6b4-4307-90a4-ca8e545435eb",
   "metadata": {},
   "source": [
    "# Data Science Tools and Ecosystem "
   ]
  },
  {
   "cell_type": "markdown",
   "id": "74c272d8-9082-4a64-85a8-6bcd9477f115",
   "metadata": {},
   "source": [
    "### In this notebook,Data Science Tools and Ecosystem are summarized"
   ]
  },
  {
   "cell_type": "markdown",
   "id": "9c70911d-221a-4e0f-a8f5-ec26cf8c5d51",
   "metadata": {},
   "source": [
    "**Objectives:**\n",
    "+ List popular languages in data science\n",
    "+ List commonly used libraries in data science\n",
    "+ List 3 data science tools\n",
    "+ Perform some arithmetic calculations"
   ]
  },
  {
   "cell_type": "markdown",
   "id": "5553a5d1-6bd5-4a2f-89a7-3f5641368630",
   "metadata": {},
   "source": [
    "#### Some of the popular languages that Data Sciencetist use are:\n",
    "1. Python\n",
    "2. C++\n",
    "3. R\n"
   ]
  },
  {
   "cell_type": "markdown",
   "id": "a456656f-eb47-41cd-b6be-499eabeb134c",
   "metadata": {},
   "source": [
    "#### Some of the commonly used libraries used by Data Scientists are:\n",
    "1. NumPy\n",
    "2. Pandas\n",
    "3. Matplotlib\n",
    "4. TensorFlow"
   ]
  },
  {
   "cell_type": "markdown",
   "id": "de49ac0b-6e79-46b6-82bc-48b0938dbcbf",
   "metadata": {},
   "source": [
    "|Data Science Tools|\n",
    "|------------------|\n",
    "|Python            |\n",
    "|Spark             |\n",
    "|Hadoop            |\n"
   ]
  },
  {
   "cell_type": "markdown",
   "id": "141acef1-c12f-4822-a207-b658c68c4f43",
   "metadata": {},
   "source": [
    "### Below are a few examples of evaluating arithmetic expressions in Python."
   ]
  },
  {
   "cell_type": "code",
   "execution_count": 10,
   "id": "f27a3ed1-0d8d-4a51-86e5-030fee54fde6",
   "metadata": {},
   "outputs": [
    {
     "name": "stdout",
     "output_type": "stream",
     "text": [
      "17\n"
     ]
    }
   ],
   "source": [
    "# This is a simple arithmetic expression to multiply and then integers\n",
    "x = 3\n",
    "y = 4\n",
    "z = x*y+5\n",
    "print (z)\n"
   ]
  },
  {
   "cell_type": "code",
   "execution_count": 16,
   "id": "566f3b7d-f9d1-49f2-9a77-ba016304fd89",
   "metadata": {},
   "outputs": [
    {
     "name": "stdout",
     "output_type": "stream",
     "text": [
      "3.3333333333333335\n"
     ]
    }
   ],
   "source": [
    "# This code will convert 200 minutes to hours\n",
    "x = 200 # 200 minutes\n",
    "y = 60 # number of minutes in an hour\n",
    "minute_to_hours = x/y\n",
    "print(minute_to_hours)\n",
    "\n"
   ]
  },
  {
   "cell_type": "markdown",
   "id": "9e8d9767-fa53-4c87-86c8-41963adc75c6",
   "metadata": {},
   "source": [
    "## Author\n",
    "Eric Evans"
   ]
  },
  {
   "cell_type": "code",
   "execution_count": null,
   "id": "77034645-041a-4969-8982-f1b3af391992",
   "metadata": {},
   "outputs": [],
   "source": []
  }
 ],
 "metadata": {
  "kernelspec": {
   "display_name": "Python [conda env:base] *",
   "language": "python",
   "name": "conda-base-py"
  },
  "language_info": {
   "codemirror_mode": {
    "name": "ipython",
    "version": 3
   },
   "file_extension": ".py",
   "mimetype": "text/x-python",
   "name": "python",
   "nbconvert_exporter": "python",
   "pygments_lexer": "ipython3",
   "version": "3.12.7"
  }
 },
 "nbformat": 4,
 "nbformat_minor": 5
}
